{
  "cells": [
    {
      "cell_type": "markdown",
      "source": [
        "# Aplikasi Perpustakaan\n",
        "### Tim QarirGenerator ingin membuat suatu perpustakaan sederhana dan memerlukan bantuan Data Scientist untuk pembuatan mini program tentang Sistem Perpustakaan yang fiturnya adalah melakukan pinjaman buku. Gunakan Tipe Data List sebagai Tools Utama\n",
        "\n",
        "*Dilarang Menggunakan Materi yang Sudah Dipelajari*\n",
        "\n",
        "#Nama Sistem = SiTaka\n",
        "\n",
        "Fitur Utama SiTaka :\n",
        "1. Daftar Buku Yang Dapat Dipinjam\n",
        "2. Tambah Buku Baru\n",
        "3. Sumbang 3 Buku\n",
        "4. Pinjam Buku\n",
        "5. Mengembalikan Buku yang dipinjam\n"
      ],
      "metadata": {
        "id": "TpNTgxPG7Y4-"
      }
    },
    {
      "cell_type": "code",
      "source": [
        "#Daftar Buku Yang Dapat Dipinjam\n",
        "List_Buku = [\n",
        "    \"Kitab Kunig\",\n",
        "    \"Buku Sutasoma\",\n",
        "    \"Dilan 2020\",\n",
        "    \"Bumi Manusia\",\n",
        "    \"Laskar Pelangi\"\n",
        "]\n",
        "\n",
        "print(List_Buku)"
      ],
      "metadata": {
        "colab": {
          "base_uri": "https://localhost:8080/"
        },
        "id": "7GN7HDlc8YKs",
        "outputId": "f918d7cd-a279-46f7-b932-fb73a614bb06"
      },
      "execution_count": 48,
      "outputs": [
        {
          "output_type": "stream",
          "name": "stdout",
          "text": [
            "['Kitab Kunig', 'Buku Sutasoma', 'Dilan 2020', 'Bumi Manusia', 'Laskar Pelangi']\n"
          ]
        }
      ]
    },
    {
      "cell_type": "code",
      "source": [
        "#Tambah Buku Baru\n",
        "List_Buku.append(\"Harry Potter\")\n",
        "print(List_Buku)"
      ],
      "metadata": {
        "id": "QZZJsBnLK4Md",
        "colab": {
          "base_uri": "https://localhost:8080/"
        },
        "outputId": "957a25bf-10cc-4b92-b852-7032ac5f2351"
      },
      "execution_count": 49,
      "outputs": [
        {
          "output_type": "stream",
          "name": "stdout",
          "text": [
            "['Kitab Kunig', 'Buku Sutasoma', 'Dilan 2020', 'Bumi Manusia', 'Laskar Pelangi', 'Harry Potter']\n"
          ]
        }
      ]
    },
    {
      "cell_type": "code",
      "source": [
        "#Sumbang 3 Buku\n",
        "List_Buku.extend((\n",
        "    \"Kaos kaki Ajaib\",\n",
        "    \"Budidaya Ikan Hiu\",\n",
        "    \"Laskar Pelangi\"))\n",
        "print(List_Buku)"
      ],
      "metadata": {
        "colab": {
          "base_uri": "https://localhost:8080/"
        },
        "id": "TdYryKMQLnIT",
        "outputId": "b0c9790e-782f-4c17-9037-deea254abfe5"
      },
      "execution_count": 50,
      "outputs": [
        {
          "output_type": "stream",
          "name": "stdout",
          "text": [
            "['Kitab Kunig', 'Buku Sutasoma', 'Dilan 2020', 'Bumi Manusia', 'Laskar Pelangi', 'Harry Potter', 'Kaos kaki Ajaib', 'Budidaya Ikan Hiu', 'Laskar Pelangi']\n"
          ]
        }
      ]
    },
    {
      "cell_type": "code",
      "source": [
        "#Pinjam Buku\n",
        "List_Buku.remove(\"Kitab Kunig\")\n",
        "print(List_Buku)"
      ],
      "metadata": {
        "colab": {
          "base_uri": "https://localhost:8080/"
        },
        "id": "FrgLK56zM3UL",
        "outputId": "41d949b7-0741-4c25-80fd-717c7e2d156e"
      },
      "execution_count": 51,
      "outputs": [
        {
          "output_type": "stream",
          "name": "stdout",
          "text": [
            "['Buku Sutasoma', 'Dilan 2020', 'Bumi Manusia', 'Laskar Pelangi', 'Harry Potter', 'Kaos kaki Ajaib', 'Budidaya Ikan Hiu', 'Laskar Pelangi']\n"
          ]
        }
      ]
    },
    {
      "cell_type": "code",
      "source": [
        "#Mengemablikan Buku Yang Dipinjam\n",
        "List_Buku.append(\"Kitab Kunig\")\n",
        "print(List_Buku)"
      ],
      "metadata": {
        "colab": {
          "base_uri": "https://localhost:8080/"
        },
        "id": "kbm13wluNROB",
        "outputId": "0bbac883-f2bb-4b87-b990-be3fcf40f18f"
      },
      "execution_count": 52,
      "outputs": [
        {
          "output_type": "stream",
          "name": "stdout",
          "text": [
            "['Buku Sutasoma', 'Dilan 2020', 'Bumi Manusia', 'Laskar Pelangi', 'Harry Potter', 'Kaos kaki Ajaib', 'Budidaya Ikan Hiu', 'Laskar Pelangi', 'Kitab Kunig']\n"
          ]
        }
      ]
    },
    {
      "cell_type": "markdown",
      "source": [
        "#Eksplorasi Tambahan"
      ],
      "metadata": {
        "id": "x1MzTHy_6kiL"
      }
    },
    {
      "cell_type": "code",
      "source": [
        "# Membuat Etalase Perpustakaan\n",
        "Etalase_1 =[\n",
        "    \"Kitab Kuning\",\n",
        "    \"Buku Sutasoma\",\n",
        "    \"Dilan 2020\",\n",
        "    \"Bumi Manusia\",\n",
        "    \"Laskar Pelangi\"\n",
        "];\n",
        "Etalase_2 =[\n",
        "    \"Harry Potter\",\n",
        "    \"Kaos kaki Ajaib\",\n",
        "    \"Budidaya Ikan Hiu\",\n",
        "    \"Betawi anak Pa Babeh\"\n",
        "];\n",
        "print(\"Etalase 1 ->\", Etalase_1);\n",
        "print(\"Etalase 2 ->\", Etalase_2)"
      ],
      "metadata": {
        "colab": {
          "base_uri": "https://localhost:8080/"
        },
        "id": "wb9416fh6tST",
        "outputId": "e38b306b-790f-4483-e464-464c38d9ccc4"
      },
      "execution_count": 53,
      "outputs": [
        {
          "output_type": "stream",
          "name": "stdout",
          "text": [
            "Etalase 1 -> ['Kitab Kuning', 'Buku Sutasoma', 'Dilan 2020', 'Bumi Manusia', 'Laskar Pelangi']\n",
            "Etalase 2 -> ['Harry Potter', 'Kaos kaki Ajaib', 'Budidaya Ikan Hiu', 'Betawi anak Pa Babeh']\n"
          ]
        }
      ]
    },
    {
      "cell_type": "code",
      "source": [
        "# Ada yang menyumbangkan buku \"badarawuhi\" dan ingin disimpan di etalase 1 dibagian susunan ke-dua setelah \"Kitab Kuning\"\n",
        "Etalase_1.insert(1,\"badarawuhi\")\n",
        "print(Etalase_1)"
      ],
      "metadata": {
        "colab": {
          "base_uri": "https://localhost:8080/"
        },
        "id": "ETjkqFwv7T3C",
        "outputId": "9f4ffb06-7f1c-44cd-c338-48636041386e"
      },
      "execution_count": 54,
      "outputs": [
        {
          "output_type": "stream",
          "name": "stdout",
          "text": [
            "['Kitab Kuning', 'badarawuhi', 'Buku Sutasoma', 'Dilan 2020', 'Bumi Manusia', 'Laskar Pelangi']\n"
          ]
        }
      ]
    },
    {
      "cell_type": "code",
      "source": [
        "#Pada Buku Etalase_2, Ternyata terdapat kesalahan input data, dari \"Kaos Kaki Ajaib\" seharusnya \"Kaos Tangan Ajaiab\"\n",
        "Etalase_2[1]=\"Kaos Tangan Ajaib\"\n",
        "print(Etalase_2)"
      ],
      "metadata": {
        "colab": {
          "base_uri": "https://localhost:8080/"
        },
        "id": "b0KWl4_Q82mB",
        "outputId": "953efd05-de7f-4c33-cd5d-4ce0b2b3d73d"
      },
      "execution_count": 55,
      "outputs": [
        {
          "output_type": "stream",
          "name": "stdout",
          "text": [
            "['Harry Potter', 'Kaos Tangan Ajaib', 'Budidaya Ikan Hiu', 'Betawi anak Pa Babeh']\n"
          ]
        }
      ]
    },
    {
      "cell_type": "code",
      "source": [
        "# Pada etalase_1 ternyata semua etalasenya terbakar dan semua buku yang terdapat pada etalase 1 hangus tidak tersisa\n",
        "Etalase_1.clear()\n",
        "print(Etalase_1, \"-Semua Habis terbakar\")\n",
        "print(Etalase_2)"
      ],
      "metadata": {
        "colab": {
          "base_uri": "https://localhost:8080/"
        },
        "id": "yfjELcxPG64w",
        "outputId": "6561a61d-365e-41c7-853d-21286845a95b"
      },
      "execution_count": 56,
      "outputs": [
        {
          "output_type": "stream",
          "name": "stdout",
          "text": [
            "[] -Semua Habis terbakar\n",
            "['Harry Potter', 'Kaos Tangan Ajaib', 'Budidaya Ikan Hiu', 'Betawi anak Pa Babeh']\n"
          ]
        }
      ]
    },
    {
      "cell_type": "code",
      "source": [
        "# Etalase_2 ingin disusun berdaarkan A-Z supaya terlihat rapi\n",
        "Etalase_2.sort()\n",
        "print(Etalase_2)"
      ],
      "metadata": {
        "colab": {
          "base_uri": "https://localhost:8080/"
        },
        "id": "TAz2Jxk4Ww1_",
        "outputId": "e018eb69-9b72-48ea-86e7-192ccc6dcf2c"
      },
      "execution_count": 57,
      "outputs": [
        {
          "output_type": "stream",
          "name": "stdout",
          "text": [
            "['Betawi anak Pa Babeh', 'Budidaya Ikan Hiu', 'Harry Potter', 'Kaos Tangan Ajaib']\n"
          ]
        }
      ]
    },
    {
      "cell_type": "code",
      "source": [
        "# Etalase 2 ingin disusun dari Z-A supaya terlihat keren\n",
        "Etalase_2.sort(reverse=True)\n",
        "print(Etalase_2)"
      ],
      "metadata": {
        "colab": {
          "base_uri": "https://localhost:8080/"
        },
        "id": "klDb_NOJXj5g",
        "outputId": "5ba3e9f4-68f5-4003-f862-a11a3db4cf8d"
      },
      "execution_count": 58,
      "outputs": [
        {
          "output_type": "stream",
          "name": "stdout",
          "text": [
            "['Kaos Tangan Ajaib', 'Harry Potter', 'Budidaya Ikan Hiu', 'Betawi anak Pa Babeh']\n"
          ]
        }
      ]
    },
    {
      "cell_type": "code",
      "source": [
        "# Mencari Buku pada Etalase_2 susunan paling pertama\n",
        "min(Etalase_2)"
      ],
      "metadata": {
        "colab": {
          "base_uri": "https://localhost:8080/",
          "height": 35
        },
        "id": "o9jKSUnMYg6q",
        "outputId": "20a45b64-4fe8-4bea-b452-d3abc3891e1c"
      },
      "execution_count": 59,
      "outputs": [
        {
          "output_type": "execute_result",
          "data": {
            "text/plain": [
              "'Betawi anak Pa Babeh'"
            ],
            "application/vnd.google.colaboratory.intrinsic+json": {
              "type": "string"
            }
          },
          "metadata": {},
          "execution_count": 59
        }
      ]
    },
    {
      "cell_type": "code",
      "source": [
        "# Mencari Buku pada Etalase_2 susunana paling terakhir\n",
        "max(Etalase_2)"
      ],
      "metadata": {
        "colab": {
          "base_uri": "https://localhost:8080/",
          "height": 35
        },
        "id": "yYh-noZuY6L3",
        "outputId": "853bd685-ff13-416c-edd0-a86b91e78b26"
      },
      "execution_count": 60,
      "outputs": [
        {
          "output_type": "execute_result",
          "data": {
            "text/plain": [
              "'Kaos Tangan Ajaib'"
            ],
            "application/vnd.google.colaboratory.intrinsic+json": {
              "type": "string"
            }
          },
          "metadata": {},
          "execution_count": 60
        }
      ]
    }
  ],
  "metadata": {
    "colab": {
      "provenance": []
    },
    "kernelspec": {
      "display_name": "Python 3",
      "name": "python3"
    },
    "language_info": {
      "name": "python"
    }
  },
  "nbformat": 4,
  "nbformat_minor": 0
}